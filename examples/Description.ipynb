{
 "cells": [
  {
   "cell_type": "markdown",
   "metadata": {},
   "source": [
    "# Description Example\n",
    "\n",
    "Description allow to annotate objects or even the whole scene with additional information.\n",
    "We will showcase them in this notebook."
   ]
  },
  {
   "cell_type": "code",
   "execution_count": 1,
   "metadata": {},
   "outputs": [],
   "source": [
    "#Make sure you have wilson installed\n",
    "#(uncomment command if needed)\n",
    "#!pip install -e .."
   ]
  },
  {
   "cell_type": "markdown",
   "metadata": {},
   "source": [
    "As usual, import all necessary packages."
   ]
  },
  {
   "cell_type": "code",
   "execution_count": 2,
   "metadata": {},
   "outputs": [],
   "source": [
    "import numpy as np\n",
    "import wilson"
   ]
  },
  {
   "cell_type": "markdown",
   "metadata": {},
   "source": [
    "We want to animate a simple parabolic throw of a ball.\n",
    "Nothing to fancy, since we only want to showcase descriptions after all."
   ]
  },
  {
   "cell_type": "markdown",
   "metadata": {},
   "source": [
    "Let's start with the trajectory:"
   ]
  },
  {
   "cell_type": "code",
   "execution_count": 3,
   "metadata": {},
   "outputs": [],
   "source": [
    "g = 9.81 #m^2/s\n",
    "v_x = 9  #m/s\n",
    "v_y = 11 #m/s\n",
    "v_z = 48 #m/s\n",
    "\n",
    "t = np.linspace(0, 10) #s\n",
    "x = t * v_x\n",
    "y = t * v_y\n",
    "z = t * v_z - np.square(t) * g / 2\n",
    "\n",
    "trajectory = wilson.Path(np.column_stack((t, x, y, z)), \"trajectory\")"
   ]
  },
  {
   "cell_type": "markdown",
   "metadata": {},
   "source": [
    "We will also display the velocity, so let's calculate that one, too:"
   ]
  },
  {
   "cell_type": "code",
   "execution_count": 4,
   "metadata": {},
   "outputs": [],
   "source": [
    "v = np.sqrt(v_x**2 + v_y**2 + np.square(v_z - t*g))\n",
    "\n",
    "speed = wilson.Graph(np.column_stack((t, v)), \"velocity\")"
   ]
  },
  {
   "cell_type": "markdown",
   "metadata": {},
   "source": [
    "Now that we have all the data we need, we can start creating the scene."
   ]
  },
  {
   "cell_type": "markdown",
   "metadata": {},
   "source": [
    "A Description can be a simple string. Let's create an overlay to show which attempt this experiment is at:"
   ]
  },
  {
   "cell_type": "code",
   "execution_count": 5,
   "metadata": {},
   "outputs": [],
   "source": [
    "attempt_overlay = wilson.Overlay(\"Attempt #042\", \"Attempt\", groups=[\"Overlay\"],  position=\"top\", bold=True)"
   ]
  },
  {
   "cell_type": "markdown",
   "metadata": {},
   "source": [
    "We want to always keep track of the current height, so let's create another overlay for that.\n",
    "We can directly reference our trajectory path to get the current height:"
   ]
  },
  {
   "cell_type": "code",
   "execution_count": 6,
   "metadata": {},
   "outputs": [],
   "source": [
    "height_text = wilson.Text(\"Current height: %(trajectory.z).2f m\", paths=[trajectory])\n",
    "#same as\n",
    "# height_text = wilson.Text(\"Current height: %(paths[0].z).2f m\", paths=[trajectory])\n",
    "\n",
    "height_overlay = wilson.Overlay(height_text, \"Height\", groups=[\"Overlay\"], position=\"lower left\")"
   ]
  },
  {
   "cell_type": "markdown",
   "metadata": {},
   "source": [
    "To reference our data, we had to create a `Text` object and pass a list of data we want to reference.\n",
    "\n",
    "Here we passed our trajectory. We can access them in the text either via the name we gave it or with\n",
    "is index in the (here) paths list. The latter is useful, if you didn't create a data object, but\n",
    "passed a numpy array instead. As usual, in the latter case the data object will automatically be created\n",
    "for you. Note, that the array must still be in the correct data form, i.e path like or graph like\n",
    "depending in which parameter you passed them!"
   ]
  },
  {
   "cell_type": "markdown",
   "metadata": {},
   "source": [
    "We also want to annotate our projectile with it's current velocity once it's selected. For this we\n",
    "can pass a `Text` object as description parameter. So let's create the description and the\n",
    "projectile now:"
   ]
  },
  {
   "cell_type": "code",
   "execution_count": 7,
   "metadata": {},
   "outputs": [],
   "source": [
    "description = wilson.Text(\"Current speed: %(velocity).2f m/s\", graphs=[speed])\n",
    "#same as\n",
    "# description = wilson.Text(\"Current speed: %(graphs[0]).2f m/s\", graphs=[speed])\n",
    "\n",
    "projectile = wilson.Sphere(\"Projectile\",\n",
    "    groups=[\"Projectile\"],\n",
    "    description=description,\n",
    "    color='black',\n",
    "    position=trajectory)"
   ]
  },
  {
   "cell_type": "markdown",
   "metadata": {},
   "source": [
    "With everything done, we only need to create a project and save it:"
   ]
  },
  {
   "cell_type": "code",
   "execution_count": 8,
   "metadata": {},
   "outputs": [],
   "source": [
    "project = wilson.Project(\"Description\",\n",
    "    author=\"wilson\",\n",
    "    description=\"A projectile following its trajectory\")\n",
    "\n",
    "project.addAnimatables([\n",
    "    attempt_overlay,\n",
    "    height_overlay,\n",
    "    projectile\n",
    "])\n",
    "\n",
    "with wilson.Catalogue('tutorial.wlsn', 'a') as cat:\n",
    "    cat.save('description', project)"
   ]
  }
 ],
 "metadata": {
  "kernelspec": {
   "display_name": "Python 3.9.10 64-bit",
   "language": "python",
   "name": "python3"
  },
  "language_info": {
   "codemirror_mode": {
    "name": "ipython",
    "version": 3
   },
   "file_extension": ".py",
   "mimetype": "text/x-python",
   "name": "python",
   "nbconvert_exporter": "python",
   "pygments_lexer": "ipython3",
   "version": "3.9.10"
  },
  "orig_nbformat": 4,
  "vscode": {
   "interpreter": {
    "hash": "403965be6ce1e5383a76cafb5044fe0511df8b33b09659455411b88cd6913886"
   }
  }
 },
 "nbformat": 4,
 "nbformat_minor": 2
}
