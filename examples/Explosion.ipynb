{
 "cells": [
  {
   "cell_type": "markdown",
   "metadata": {},
   "source": [
    "# Explosion Example\n",
    "\n",
    "In this notebook we will show how to animate colors and make objects disappear and appear at certain times.\\\n",
    "We do so by animating how a sphere grows as it turns red to finally explode into multiple smaller spheres."
   ]
  },
  {
   "cell_type": "code",
   "execution_count": 1,
   "metadata": {},
   "outputs": [],
   "source": [
    "#Make sure you have wilson installed\n",
    "#(uncomment command if needed)\n",
    "#!pip install -e .."
   ]
  },
  {
   "cell_type": "markdown",
   "metadata": {},
   "source": [
    "Once again, import all necessary packages."
   ]
  },
  {
   "cell_type": "code",
   "execution_count": 2,
   "metadata": {},
   "outputs": [],
   "source": [
    "import numpy as np\n",
    "import wilson"
   ]
  },
  {
   "cell_type": "markdown",
   "metadata": {},
   "source": [
    "Let's start with the exploding mother nuclei:"
   ]
  },
  {
   "cell_type": "code",
   "execution_count": 3,
   "metadata": {},
   "outputs": [],
   "source": [
    "mother = wilson.Sphere(\"Mother\", groups=[\"Mother\"], description=\"I'm not feeling well...\")"
   ]
  },
  {
   "cell_type": "markdown",
   "metadata": {},
   "source": [
    "Another new thing are groups: We can organize objects into groups, presenting users a way to easier find them and toggle their visibility."
   ]
  },
  {
   "cell_type": "markdown",
   "metadata": {},
   "source": [
    "We want it to grow and then explode, i.e. disappear.\n",
    "\n",
    "Growing is straight forward: We create a graph starting from a smaller radius to a bigger radius. \\\n",
    "For the explosion we simply set the radius to zero in a very short time."
   ]
  },
  {
   "cell_type": "code",
   "execution_count": 4,
   "metadata": {},
   "outputs": [],
   "source": [
    "mother.radius = np.array([\n",
    "    [0.0, 1.0],\n",
    "    [10.0,2.5],\n",
    "    [10.01, 0.0]\n",
    "])"
   ]
  },
  {
   "cell_type": "markdown",
   "metadata": {},
   "source": [
    "Animating colors is a bit trickier. wilson uses color maps, i.e. it takes a scalar and looks the corresponding color up in a list.\n",
    "\n",
    "Since we're lazy we want to use a predefined one. We can specify any color map from matplotlib or cmasher, or any other color map registered into matplotlib.\\\n",
    "Let's use the one called `hot` (shocking I know). We have to register it globally at the project root"
   ]
  },
  {
   "cell_type": "code",
   "execution_count": 5,
   "metadata": {},
   "outputs": [],
   "source": [
    "explosion = wilson.Project(\"Explosion\",\n",
    "    author=\"wilson\",\n",
    "    description=\"An everyday explosion\",\n",
    "    speedRatio=1.0,\n",
    "    colormap='hot')"
   ]
  },
  {
   "cell_type": "markdown",
   "metadata": {},
   "source": [
    "Now we can create the color animation. Color maps are usually defined within a range of [0,1], but you are free to choose another range if you define your own.\n",
    "\n",
    "Since 0.0 is dark and 1.0 light, the animation is really simple. We don't have to care about the color after the explosion as it won't be visible anyway."
   ]
  },
  {
   "cell_type": "code",
   "execution_count": 6,
   "metadata": {},
   "outputs": [],
   "source": [
    "mother.color = np.array([\n",
    "    [0.0, 0.0],\n",
    "    [10.0, 1.0]\n",
    "])"
   ]
  },
  {
   "cell_type": "markdown",
   "metadata": {},
   "source": [
    "Don't forget to add the sphere!"
   ]
  },
  {
   "cell_type": "code",
   "execution_count": 7,
   "metadata": {},
   "outputs": [],
   "source": [
    "explosion.appendAnimatable(mother)"
   ]
  },
  {
   "cell_type": "markdown",
   "metadata": {},
   "source": [
    "Next up are the fragments. Making them appear is very similar to making the first disappear earlier. \\\n",
    "Instead of setting a radius zero, we now just start with zero and increase it at the explosion.\n",
    "\n",
    "Since all our fragments will have the same size, we can share this animation. If we just give the same array to all daughter nucleii, during serialization wilson assumes them to be unique and actually creates a copy each time.\n",
    "\n",
    "To actually share the animation, we have to create the corresponding `Graph` object ourselves. (wilson checks if a graph was submitted earlier and if so produces a reference to the earlier one instead of creating a copy)"
   ]
  },
  {
   "cell_type": "code",
   "execution_count": 8,
   "metadata": {},
   "outputs": [],
   "source": [
    "fragment_radii = wilson.Graph([\n",
    "    [10.0, 0.0],\n",
    "    [10.01, 0.3]\n",
    "], \"daughter radii\")"
   ]
  },
  {
   "cell_type": "markdown",
   "metadata": {},
   "source": [
    "We want them to fly into different directions. We do this by giving each daughter its own position animation with different ending points"
   ]
  },
  {
   "cell_type": "code",
   "execution_count": 9,
   "metadata": {},
   "outputs": [],
   "source": [
    "for i in range(12):\n",
    "    #create flight path\n",
    "    endPosition = np.random.rand(3) * 10.0 - 5.0\n",
    "    position = np.empty((2,4))\n",
    "    position[0] = 10.0, 0.0, 0.0, 0.0\n",
    "    position[1] = 15.0, *endPosition\n",
    "\n",
    "    #add new daughter nuclei to project\n",
    "    daughter = wilson.Sphere(f'Daughter{i}',\n",
    "        description=\"Seeking freedom\",\n",
    "        radius=fragment_radii,\n",
    "        position=position,\n",
    "        color='grey blue')\n",
    "    explosion.appendAnimatable(daughter)"
   ]
  },
  {
   "cell_type": "markdown",
   "metadata": {},
   "source": [
    "With everything done, we now simply save the project. Once again we'll append it to the tutorial catalogue."
   ]
  },
  {
   "cell_type": "code",
   "execution_count": 10,
   "metadata": {},
   "outputs": [],
   "source": [
    "with wilson.Catalogue('tutorial.wlsn', 'a') as cat:\n",
    "    cat.save('explosion', explosion)"
   ]
  }
 ],
 "metadata": {
  "kernelspec": {
   "display_name": "Python 3.9.10 64-bit",
   "language": "python",
   "name": "python3"
  },
  "language_info": {
   "codemirror_mode": {
    "name": "ipython",
    "version": 3
   },
   "file_extension": ".py",
   "mimetype": "text/x-python",
   "name": "python",
   "nbconvert_exporter": "python",
   "pygments_lexer": "ipython3",
   "version": "3.9.10"
  },
  "orig_nbformat": 4,
  "vscode": {
   "interpreter": {
    "hash": "403965be6ce1e5383a76cafb5044fe0511df8b33b09659455411b88cd6913886"
   }
  }
 },
 "nbformat": 4,
 "nbformat_minor": 2
}
