{
 "cells": [
  {
   "attachments": {},
   "cell_type": "markdown",
   "metadata": {},
   "source": [
    "# Lines Examples\n",
    "\n",
    "Lines are fully animatible straight lines connecting two points in the scene. You can also add arrow heads on either or both ends."
   ]
  },
  {
   "cell_type": "code",
   "execution_count": 1,
   "metadata": {},
   "outputs": [],
   "source": [
    "#Make sure you have wilson installed\n",
    "#(uncomment command if needed)\n",
    "#!pip install -e .."
   ]
  },
  {
   "attachments": {},
   "cell_type": "markdown",
   "metadata": {},
   "source": [
    "As usual, import all necessary packages."
   ]
  },
  {
   "cell_type": "code",
   "execution_count": 2,
   "metadata": {},
   "outputs": [],
   "source": [
    "import numpy as np\n",
    "import wilson\n",
    "from datetime import datetime"
   ]
  },
  {
   "attachments": {},
   "cell_type": "markdown",
   "metadata": {},
   "source": [
    "Like in the `Description` example, we'll be simulating a simple parabolic throw and show the velocity vectors as arrows acting on the projectile."
   ]
  },
  {
   "attachments": {},
   "cell_type": "markdown",
   "metadata": {},
   "source": [
    "Let's start again with the trajectory, but this time restrict to the yz-plane to not clutter the scene with arrows:"
   ]
  },
  {
   "cell_type": "code",
   "execution_count": 3,
   "metadata": {},
   "outputs": [],
   "source": [
    "g = 9.81 #m^2/s\n",
    "v_x = 0  #m/s\n",
    "v_y = 11 #m/s\n",
    "v_z = 48 #m/s\n",
    "\n",
    "t = np.linspace(0, 10, num=200) #s\n",
    "x = t * v_x\n",
    "y = t * v_y\n",
    "z = t * v_z - np.square(t) * g / 2\n",
    "\n",
    "trajectory_arr = np.column_stack((t, x, y, z))\n",
    "\n",
    "trajectory = wilson.Path(trajectory_arr, \"trajectory\")"
   ]
  },
  {
   "attachments": {},
   "cell_type": "markdown",
   "metadata": {},
   "source": [
    "Creating the projectile straight forward:"
   ]
  },
  {
   "cell_type": "code",
   "execution_count": 4,
   "metadata": {},
   "outputs": [],
   "source": [
    "projectile = wilson.Sphere(\"Projectile\",\n",
    "    groups=[\"Projectile\"],\n",
    "    description=\"Projectile\",\n",
    "    color='red',\n",
    "    position=trajectory)"
   ]
  },
  {
   "attachments": {},
   "cell_type": "markdown",
   "metadata": {},
   "source": [
    "Next is to calculate the other ends of the velocity arrows:"
   ]
  },
  {
   "cell_type": "code",
   "execution_count": 5,
   "metadata": {},
   "outputs": [],
   "source": [
    "v_scale = 0.3\n",
    "\n",
    "vy_end = np.copy(trajectory_arr)\n",
    "vy_end[:,2] += (v_y * v_scale)\n",
    "\n",
    "vz_end = np.copy(trajectory_arr)\n",
    "vz_end[:,3] += ((v_z - (g * t)) * v_scale)"
   ]
  },
  {
   "attachments": {},
   "cell_type": "markdown",
   "metadata": {},
   "source": [
    "Finally, we can create the arrows:"
   ]
  },
  {
   "cell_type": "code",
   "execution_count": 6,
   "metadata": {},
   "outputs": [],
   "source": [
    "vy_arrow = wilson.Line(\"Vy\",\n",
    "    groups=[\"Speed Arrows\"],\n",
    "    description=\"Speed in y direction\",\n",
    "    start=trajectory,\n",
    "    end=vy_end,\n",
    "    lineWidth=0.3,\n",
    "    color=\"blue\",\n",
    "    pointBackward=True)\n",
    "vz_arrow = wilson.Line(\"Vz\",\n",
    "    groups=[\"Speed Arrows\"],\n",
    "    description=\"Speed in z direction\",\n",
    "    start=trajectory,\n",
    "    end=vz_end,\n",
    "    lineWidth=0.3,\n",
    "    color=\"blue\",\n",
    "    pointBackward=True)"
   ]
  },
  {
   "attachments": {},
   "cell_type": "markdown",
   "metadata": {},
   "source": [
    "With everything done, we only need to create a project and save it:"
   ]
  },
  {
   "cell_type": "code",
   "execution_count": 7,
   "metadata": {},
   "outputs": [],
   "source": [
    "project = wilson.Project(\"Lines\",\n",
    "    author=\"wilson\",\n",
    "    description=\"A projectile with speed arrows.\",\n",
    "    date=datetime.now())\n",
    "# Zoom a bit out\n",
    "project.camera = wilson.Camera(position=(10,10,10))\n",
    "\n",
    "project.addAnimatables([\n",
    "    projectile,\n",
    "    vy_arrow,\n",
    "    vz_arrow\n",
    "])\n",
    "\n",
    "with wilson.Catalogue('tutorial.wlsn', 'a') as cat:\n",
    "    cat.save('lines', project)"
   ]
  },
  {
   "attachments": {},
   "cell_type": "markdown",
   "metadata": {},
   "source": [
    "Tip: When you view this in Wilson, try double clicking on the projectile in the object explorer. The camera will follow it!"
   ]
  }
 ],
 "metadata": {
  "kernelspec": {
   "display_name": "Python 3",
   "language": "python",
   "name": "python3"
  },
  "language_info": {
   "codemirror_mode": {
    "name": "ipython",
    "version": 3
   },
   "file_extension": ".py",
   "mimetype": "text/x-python",
   "name": "python",
   "nbconvert_exporter": "python",
   "pygments_lexer": "ipython3",
   "version": "3.9.10 (tags/v3.9.10:f2f3f53, Jan 17 2022, 15:14:21) [MSC v.1929 64 bit (AMD64)]"
  },
  "orig_nbformat": 4,
  "vscode": {
   "interpreter": {
    "hash": "403965be6ce1e5383a76cafb5044fe0511df8b33b09659455411b88cd6913886"
   }
  }
 },
 "nbformat": 4,
 "nbformat_minor": 2
}
