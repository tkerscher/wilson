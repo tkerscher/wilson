{
 "cells": [
  {
   "attachments": {},
   "cell_type": "markdown",
   "metadata": {},
   "source": [
    "# Prism Examples\n",
    "\n",
    "Prisms are fully animatible extruded regular polygons (e.g. a cuboid)."
   ]
  },
  {
   "cell_type": "code",
   "execution_count": 1,
   "metadata": {},
   "outputs": [],
   "source": [
    "#Make sure you have wilson installed\n",
    "#(uncomment command if needed)\n",
    "#!pip install -e .."
   ]
  },
  {
   "attachments": {},
   "cell_type": "markdown",
   "metadata": {},
   "source": [
    "As usual import all necessary packages."
   ]
  },
  {
   "cell_type": "code",
   "execution_count": 2,
   "metadata": {},
   "outputs": [],
   "source": [
    "import numpy as np\n",
    "import wilson\n",
    "from datetime import datetime"
   ]
  },
  {
   "attachments": {},
   "cell_type": "markdown",
   "metadata": {},
   "source": [
    "Let's start with a rotation cube."
   ]
  },
  {
   "cell_type": "code",
   "execution_count": 3,
   "metadata": {},
   "outputs": [],
   "source": [
    "rad = np.array([\n",
    "    [0.0, 0.0],\n",
    "    [5.0, 2*np.pi]\n",
    "])\n",
    "\n",
    "cube = wilson.Prism(\"Cube\",\n",
    "    color=\"blue\",\n",
    "    nVertices=4,\n",
    "    rotation=rad)"
   ]
  },
  {
   "attachments": {},
   "cell_type": "markdown",
   "metadata": {},
   "source": [
    "By using polygons with a large number of vertices, one can mimic cylinders."
   ]
  },
  {
   "cell_type": "code",
   "execution_count": 4,
   "metadata": {},
   "outputs": [],
   "source": [
    "h = np.array([\n",
    "    [0.0, 0.5],\n",
    "    [2.5, 5.0],\n",
    "    [5.0, 0.5]\n",
    "])\n",
    "\n",
    "cylinder = wilson.Prism(\"Cylinder\",\n",
    "    position=(-2.0,0,0),\n",
    "    nVertices=32,\n",
    "    height=h,\n",
    "    radius=0.5,\n",
    "    color=\"green\")"
   ]
  },
  {
   "attachments": {},
   "cell_type": "markdown",
   "metadata": {},
   "source": [
    "Prisms can also be freely rotated, i.e. they do not need to always stand upright."
   ]
  },
  {
   "cell_type": "code",
   "execution_count": 5,
   "metadata": {},
   "outputs": [],
   "source": [
    "triangle = wilson.Prism(\"Triangle\",\n",
    "    position=(2,0,0),\n",
    "    nVertices=3,\n",
    "    normal=(1,0,0),\n",
    "    rotation=rad,\n",
    "    color=\"red\")"
   ]
  },
  {
   "attachments": {},
   "cell_type": "markdown",
   "metadata": {},
   "source": [
    "Finally, let's bundle these examples up so you can watch them."
   ]
  },
  {
   "cell_type": "code",
   "execution_count": 6,
   "metadata": {},
   "outputs": [],
   "source": [
    "project = wilson.Project(\"Prisms\",\n",
    "    author=\"wilson\",\n",
    "    description=\"A few examples of prisms\",\n",
    "    date=datetime.now())\n",
    "# Zoom a bit out\n",
    "project.camera = wilson.Camera(position=(10,10,10))\n",
    "\n",
    "project.addAnimatables([cube, cylinder, triangle])\n",
    "\n",
    "with wilson.Catalogue(\"tutorial.wlsn\", \"a\") as cat:\n",
    "    cat.save(\"prism\", project)"
   ]
  }
 ],
 "metadata": {
  "kernelspec": {
   "display_name": "Python 3",
   "language": "python",
   "name": "python3"
  },
  "language_info": {
   "codemirror_mode": {
    "name": "ipython",
    "version": 3
   },
   "file_extension": ".py",
   "mimetype": "text/x-python",
   "name": "python",
   "nbconvert_exporter": "python",
   "pygments_lexer": "ipython3",
   "version": "3.9.10"
  },
  "orig_nbformat": 4
 },
 "nbformat": 4,
 "nbformat_minor": 2
}
