{
 "cells": [
  {
   "cell_type": "markdown",
   "metadata": {},
   "source": [
    "# Server Showcase\n",
    "\n",
    "Wilson provides a small server to be run on your local machine.\n",
    "The intent is to make it easy to look at your projects without the need to\n",
    "manoeuver through your file explorer. For this case, Wilson also provides methods\n",
    "to display the event viewer inside notebooks.\n",
    "\n",
    "This notebook shows this using a simple project.\n",
    "\n",
    "Note that in editors like VS Code some functions like Graph Explorer or Fullscreen might not work."
   ]
  },
  {
   "cell_type": "code",
   "execution_count": null,
   "metadata": {},
   "outputs": [],
   "source": [
    "import numpy as np\n",
    "import wilson\n",
    "\n",
    "server = wilson.WilsonServer()\n",
    "print(f\"Server available under {server.url}\")"
   ]
  },
  {
   "cell_type": "code",
   "execution_count": null,
   "metadata": {},
   "outputs": [],
   "source": [
    "t = np.linspace(0,5)\n",
    "x = 10.0 * np.cos(t*np.pi) * np.cos(t*np.pi)\n",
    "y = 10.0 * np.cos(t*np.pi) * np.sin(t*np.pi)\n",
    "z = 10.0 * np.sin(t*np.pi)\n",
    "\n",
    "position = np.stack([t,x,y,z], axis=-1)"
   ]
  },
  {
   "cell_type": "code",
   "execution_count": null,
   "metadata": {},
   "outputs": [],
   "source": [
    "project = wilson.Project(\"Server Showcase\")\n",
    "project.camera = wilson.Camera(position=(20,20,20))\n",
    "project.appendAnimatable(wilson.Sphere(\"sphere\", position=position, color=\"red\"))"
   ]
  },
  {
   "cell_type": "code",
   "execution_count": null,
   "metadata": {},
   "outputs": [],
   "source": [
    "server.displayProject(project)"
   ]
  }
 ],
 "metadata": {
  "kernelspec": {
   "display_name": "Python 3",
   "language": "python",
   "name": "python3"
  },
  "language_info": {
   "codemirror_mode": {
    "name": "ipython",
    "version": 3
   },
   "file_extension": ".py",
   "mimetype": "text/x-python",
   "name": "python",
   "nbconvert_exporter": "python",
   "pygments_lexer": "ipython3",
   "version": "3.9.10"
  }
 },
 "nbformat": 4,
 "nbformat_minor": 2
}
