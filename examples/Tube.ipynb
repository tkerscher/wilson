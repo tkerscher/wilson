{
 "cells": [
  {
   "cell_type": "markdown",
   "metadata": {},
   "source": [
    "# Tube Example\n",
    "\n",
    "Here we show a rather unique feature of Wilson: Tubes.\n",
    "\n",
    "As usual, start with import packages:"
   ]
  },
  {
   "cell_type": "code",
   "execution_count": 1,
   "metadata": {},
   "outputs": [],
   "source": [
    "#Make sure you have wilson installed\n",
    "#(uncomment command if needed)\n",
    "#!pip install -e .."
   ]
  },
  {
   "cell_type": "code",
   "execution_count": 2,
   "metadata": {},
   "outputs": [],
   "source": [
    "import numpy as np\n",
    "import wilson\n",
    "from datetime import datetime"
   ]
  },
  {
   "cell_type": "markdown",
   "metadata": {},
   "source": [
    "Tubes follow a path in space. So we start with that:"
   ]
  },
  {
   "cell_type": "code",
   "execution_count": 3,
   "metadata": {},
   "outputs": [],
   "source": [
    "t = np.linspace(0, 10)\n",
    "x = np.sin(t * 2) * 5\n",
    "y = np.cos(t * 2) * 5\n",
    "z = t * 2\n",
    "path = np.column_stack((t, x, y, z))"
   ]
  },
  {
   "cell_type": "markdown",
   "metadata": {},
   "source": [
    "Paths can either grow in time, or always follow the complete path. Here we'll create a growing one."
   ]
  },
  {
   "cell_type": "markdown",
   "metadata": {},
   "source": [
    "Additionally, we can provide a radius function.\n",
    "It maps a point on the tube's path, defined by time, to a radius."
   ]
  },
  {
   "cell_type": "code",
   "execution_count": 4,
   "metadata": {},
   "outputs": [],
   "source": [
    "r = np.sin(t * 2)**2 + (t / 10) + 1\n",
    "rad = np.column_stack((t, r))"
   ]
  },
  {
   "cell_type": "markdown",
   "metadata": {},
   "source": [
    "The same goes for the color, where the colormap is used to translate scalars into colors."
   ]
  },
  {
   "cell_type": "code",
   "execution_count": 5,
   "metadata": {},
   "outputs": [],
   "source": [
    "c = t / 10\n",
    "color = np.column_stack((t, c))"
   ]
  },
  {
   "cell_type": "markdown",
   "metadata": {},
   "source": [
    "Now we have everything to create our tube:"
   ]
  },
  {
   "cell_type": "code",
   "execution_count": 6,
   "metadata": {},
   "outputs": [],
   "source": [
    "tube = wilson.Tube(path, \"tube\", radius=rad, color=color, isGrowing=True)"
   ]
  },
  {
   "cell_type": "markdown",
   "metadata": {},
   "source": [
    "As usual, we create a project and save it to the tutorials catalogue."
   ]
  },
  {
   "cell_type": "code",
   "execution_count": 7,
   "metadata": {},
   "outputs": [],
   "source": [
    "project = wilson.Project(\"Tube\", author=\"wilson\", date=datetime.now())\n",
    "project.camera = wilson.Camera(position=(20,20,30), target=(0,0,10))\n",
    "project.appendAnimatable(tube)\n",
    "\n",
    "with wilson.Catalogue(\"tutorial.wlsn\", \"a\") as cat:\n",
    "    cat.save(\"tube\", project)"
   ]
  }
 ],
 "metadata": {
  "kernelspec": {
   "display_name": "Python 3.9.10 64-bit",
   "language": "python",
   "name": "python3"
  },
  "language_info": {
   "codemirror_mode": {
    "name": "ipython",
    "version": 3
   },
   "file_extension": ".py",
   "mimetype": "text/x-python",
   "name": "python",
   "nbconvert_exporter": "python",
   "pygments_lexer": "ipython3",
   "version": "3.9.10"
  },
  "orig_nbformat": 4,
  "vscode": {
   "interpreter": {
    "hash": "403965be6ce1e5383a76cafb5044fe0511df8b33b09659455411b88cd6913886"
   }
  }
 },
 "nbformat": 4,
 "nbformat_minor": 2
}
