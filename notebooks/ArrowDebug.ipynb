{
 "cells": [
  {
   "cell_type": "markdown",
   "metadata": {},
   "source": [
    "# Arrow Debug\n",
    "\n",
    "The following is just a simple animation to test functionality of arrows.\n",
    "\n",
    "There should be a growing red arrow, which a blue arrow spins around."
   ]
  },
  {
   "cell_type": "code",
   "execution_count": 1,
   "metadata": {},
   "outputs": [],
   "source": [
    "import numpy as np\n",
    "import p1on"
   ]
  },
  {
   "cell_type": "code",
   "execution_count": 6,
   "metadata": {},
   "outputs": [],
   "source": [
    "project = p1on.Project(\"ArrowTest\")\n",
    "\n",
    "start = np.array([[0,0,0,0],[5,15,0,0]])\n",
    "end = np.array([[0,1,0,0],[5,5,0,0]])\n",
    "width = np.array([[0,0.5],[5,2.0]])\n",
    "\n",
    "arrow = p1on.Line(\"Arrow\",\n",
    "    #start=start,\n",
    "    end=end,\n",
    "    lineWidth=width,\n",
    "    color='red',\n",
    "    pointForward=True)\n",
    "\n",
    "project.appendAnimatable(arrow)\n",
    "\n",
    "t = np.linspace(0,5,50)\n",
    "phi = np.linspace(0,2*np.pi,50)\n",
    "x = np.cos(phi)\n",
    "y = np.sin(phi)\n",
    "z = np.zeros_like(x)\n",
    "end2 = np.column_stack((t, z, y, x))\n",
    "\n",
    "arrow2 = p1on.Line(\"Arrow2\",\n",
    "    end=end2,\n",
    "    lineWidth=0.3,\n",
    "    color='blue',\n",
    "    pointForward=True,\n",
    "    pointBackward=True)\n",
    "project.appendAnimatable(arrow2)\n",
    "\n",
    "sphere = p1on.Sphere('sphere',\n",
    "    position=end2,\n",
    "    radius=0.1,\n",
    "    color='green')\n",
    "project.appendAnimatable(sphere)\n",
    "\n",
    "p1on.saveProject(project, \"../examples/ArrowDebug.p1on\")"
   ]
  }
 ],
 "metadata": {
  "interpreter": {
   "hash": "916dbcbb3f70747c44a77c7bcd40155683ae19c65e1c03b4aa3499c5328201f1"
  },
  "kernelspec": {
   "display_name": "Python 3.8.10 64-bit",
   "language": "python",
   "name": "python3"
  },
  "language_info": {
   "codemirror_mode": {
    "name": "ipython",
    "version": 3
   },
   "file_extension": ".py",
   "mimetype": "text/x-python",
   "name": "python",
   "nbconvert_exporter": "python",
   "pygments_lexer": "ipython3",
   "version": "3.8.10"
  },
  "orig_nbformat": 4
 },
 "nbformat": 4,
 "nbformat_minor": 2
}
