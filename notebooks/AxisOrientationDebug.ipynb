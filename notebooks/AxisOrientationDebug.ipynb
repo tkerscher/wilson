{
 "cells": [
  {
   "cell_type": "code",
   "execution_count": 1,
   "metadata": {},
   "outputs": [],
   "source": [
    "import numpy as np\n",
    "import p1on\n",
    "\n",
    "xAxis = p1on.Line(\"xAxis\",\n",
    "    color='red',\n",
    "    end=(0,0,0),\n",
    "    start=(1,0,0),\n",
    "    lineWidth=0.15,\n",
    "    pointForward=True)\n",
    "yAxis = p1on.Line(\"yAxis\",\n",
    "    color='green',\n",
    "    end=(0,0,0),\n",
    "    start=(0,1,0),\n",
    "    lineWidth=0.15,\n",
    "    pointForward=True)\n",
    "zAxis = p1on.Line(\"zAxis\",\n",
    "    color='blue',\n",
    "    end=(0,0,0),\n",
    "    start=(0,0,1),\n",
    "    lineWidth=0.15,\n",
    "    pointForward=True)\n",
    "\n",
    "project = p1on.Project(\"AxisDebug\")\n",
    "project.addAnimatables((xAxis, yAxis, zAxis))\n",
    "p1on.saveProject(project, '../examples/AxisDebug.p1on')"
   ]
  }
 ],
 "metadata": {
  "kernelspec": {
   "display_name": "Python 3.8.10 64-bit",
   "language": "python",
   "name": "python3"
  },
  "language_info": {
   "codemirror_mode": {
    "name": "ipython",
    "version": 3
   },
   "file_extension": ".py",
   "mimetype": "text/x-python",
   "name": "python",
   "nbconvert_exporter": "python",
   "pygments_lexer": "ipython3",
   "version": "3.8.10"
  },
  "orig_nbformat": 4,
  "vscode": {
   "interpreter": {
    "hash": "916dbcbb3f70747c44a77c7bcd40155683ae19c65e1c03b4aa3499c5328201f1"
   }
  }
 },
 "nbformat": 4,
 "nbformat_minor": 2
}
