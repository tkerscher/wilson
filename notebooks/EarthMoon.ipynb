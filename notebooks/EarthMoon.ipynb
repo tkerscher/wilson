{
 "cells": [
  {
   "cell_type": "markdown",
   "metadata": {},
   "source": [
    "# Earth Moon Example\n",
    "\n",
    "In this notebook, we show a simple example on how to create a P1ON animation file using python.\n",
    "The animation will show the moon orbiting around the earth."
   ]
  },
  {
   "cell_type": "code",
   "execution_count": 1,
   "metadata": {},
   "outputs": [],
   "source": [
    "#Make sure you have p1on installed\n",
    "#(uncomment command if needed)\n",
    "#!pip install -e .."
   ]
  },
  {
   "cell_type": "markdown",
   "metadata": {},
   "source": [
    "First let's import all the necessary packages."
   ]
  },
  {
   "cell_type": "code",
   "execution_count": 2,
   "metadata": {},
   "outputs": [],
   "source": [
    "import numpy as np\n",
    "import p1on"
   ]
  },
  {
   "cell_type": "markdown",
   "metadata": {},
   "source": [
    "Let's start with creating two spheres: one for Earth and one for the Moon\n",
    "\n",
    "Each of the spheres were given a name. This allows us latter to easily identify both of them in P1ON's editor.\\\n",
    "We also added descriptions. Descriptions are texts which will be shown in the animation if Earth or the Moon are selected. \\\n",
    "The other two properties, radius and color are exactly what you think they are."
   ]
  },
  {
   "cell_type": "code",
   "execution_count": 3,
   "metadata": {},
   "outputs": [],
   "source": [
    "earth = p1on.Sphere('Earth', description=\"That's our planet!\", radius=1.0, color='blue')\n",
    "moon = p1on.Sphere('Moon', description='Our oldest pal!', radius=0.27, color='grey')"
   ]
  },
  {
   "cell_type": "markdown",
   "metadata": {},
   "source": [
    "Right now nothing would happen in the animation. Even worse, the moon is inside the Earth! \\\n",
    "To prevent this doomsday scenario, let's create a path for the Moon to follow.\n",
    "\n",
    "Paths are simply a list of control points, assigning distinct moments in time a fixed position in space. \\\n",
    "A simple numpy array (or anything that can be converted into one using np.array) is sufficient. \\\n",
    "It only has to consist of 4 columns (i.e. shape of (N,4)). These columns are time, followed by the x, y and z coordinates."
   ]
  },
  {
   "cell_type": "code",
   "execution_count": 4,
   "metadata": {},
   "outputs": [
    {
     "name": "stdout",
     "output_type": "stream",
     "text": [
      "(50, 4)\n"
     ]
    }
   ],
   "source": [
    "#We make the orbit a bit smaller to make the animation easier to watch\n",
    "r = 5.0\n",
    "t = np.linspace(0, 2*np.pi)\n",
    "x = r * np.cos(t)\n",
    "y = r * np.sin(t)\n",
    "z = np.zeros_like(t)\n",
    "\n",
    "path = np.column_stack((t, x, y, z))\n",
    "print(path.shape)"
   ]
  },
  {
   "cell_type": "markdown",
   "metadata": {},
   "source": [
    "We just introduced time as a variable. Since the usual regime P1ON was designed for is particle physics, \\\n",
    "time is usually denoted in nanoseconds. However, from the animation perspective this is purely arbitrary. \\\n",
    "In fact, as we later see we can set the speed of the animation ourselves."
   ]
  },
  {
   "cell_type": "markdown",
   "metadata": {},
   "source": [
    "Next we have to tell the Moon to follow its path we just created for him. \\\n",
    "This can be done by simply assigning the numpy array to the corresponding property:"
   ]
  },
  {
   "cell_type": "code",
   "execution_count": 5,
   "metadata": {},
   "outputs": [],
   "source": [
    "moon.position = path"
   ]
  },
  {
   "cell_type": "markdown",
   "metadata": {},
   "source": [
    "By default P1ON will linearly interpolate inbetween the control points of `path`, which might look a little rough. \\\n",
    "Luckily, we can change this behavior! We just have to pack the path into a `Path` (sic) object, where we can change the interpolation mode.\n",
    "\n",
    "There are three modes of interpolation:\n",
    " - `step`: Hold value until a newer one appears\n",
    " - `linear`: Linear interpolation inbetween control points (default)\n",
    " - `cubic`: Cubic (smooth) interpolation inbetween control points\n",
    "\n",
    "We'll take the cubic one to smoothen the orbit. We can also give the path a name just like before!"
   ]
  },
  {
   "cell_type": "code",
   "execution_count": 6,
   "metadata": {},
   "outputs": [],
   "source": [
    "orbit = p1on.Path(path, name='Moon Orbit', interpolation='cubic')\n",
    "moon.position = orbit"
   ]
  },
  {
   "cell_type": "markdown",
   "metadata": {},
   "source": [
    "If we don't create the `Path` object ourselves like earlier, P1ON actually will create one for us internally and give it a name based on the object's name and property."
   ]
  },
  {
   "cell_type": "markdown",
   "metadata": {},
   "source": [
    "We're almost done. Now we have to bundle all things up.\\\n",
    "This happens in the `Project` class:"
   ]
  },
  {
   "cell_type": "code",
   "execution_count": 7,
   "metadata": {},
   "outputs": [],
   "source": [
    "project = p1on.Project('Earth Moon',\n",
    "    author='p1on',\n",
    "    description='The Moon orbiting around the Earth.',\n",
    "    speedRatio=2*np.pi / 5.0,\n",
    "    animatables=[earth, moon])"
   ]
  },
  {
   "cell_type": "markdown",
   "metadata": {},
   "source": [
    "The `Project` class is pretty straight forward: We can give it a name and optionally name the author and add a description. \\\n",
    "Here you can also specify the animation speed in time units (usually nanoseconds) per second. Here the Moon will complete one revolution in 5 seconds. \\\n",
    "The most important thing here is to list all objects (called `animatables`) we want to include in the animation.\n",
    "\n",
    "If you look in the API, you'll know that `Project` allows to list paths to include. Any path that is referenced by any of the animatibles, will be included automatically. \\\n",
    "This is indented to allow to add additional information or data to manipulate inside P1ON. The same applies to the other types of data.\n",
    "\n",
    "There are also some more advanced properties available, we won't look into here. For now let's just change the clear color, i.e. the background color of the animation scene\n",
    "to a nice yellow for the sun."
   ]
  },
  {
   "cell_type": "code",
   "execution_count": 8,
   "metadata": {},
   "outputs": [],
   "source": [
    "project.clearColor = 'light yellow'"
   ]
  },
  {
   "cell_type": "markdown",
   "metadata": {},
   "source": [
    "The only thing left to do, is to save the animation to disk:"
   ]
  },
  {
   "cell_type": "code",
   "execution_count": 9,
   "metadata": {},
   "outputs": [
    {
     "ename": "AttributeError",
     "evalue": "'Project' object has no attribute 'animationSpeed'",
     "output_type": "error",
     "traceback": [
      "\u001b[0;31m---------------------------------------------------------------------------\u001b[0m",
      "\u001b[0;31mAttributeError\u001b[0m                            Traceback (most recent call last)",
      "\u001b[0;32m/tmp/ipykernel_3602/853218854.py\u001b[0m in \u001b[0;36m<module>\u001b[0;34m\u001b[0m\n\u001b[0;32m----> 1\u001b[0;31m \u001b[0mp1on\u001b[0m\u001b[0;34m.\u001b[0m\u001b[0msaveProject\u001b[0m\u001b[0;34m(\u001b[0m\u001b[0mproject\u001b[0m\u001b[0;34m,\u001b[0m \u001b[0;34m'../examples/earth_moon.p1on'\u001b[0m\u001b[0;34m)\u001b[0m\u001b[0;34m\u001b[0m\u001b[0;34m\u001b[0m\u001b[0m\n\u001b[0m",
      "\u001b[0;32m~/repos/p1on/p1on/serialize.py\u001b[0m in \u001b[0;36msaveProject\u001b[0;34m(project, path)\u001b[0m\n\u001b[1;32m     80\u001b[0m     \"\"\"\n\u001b[1;32m     81\u001b[0m     \u001b[0;32mwith\u001b[0m \u001b[0mopen\u001b[0m\u001b[0;34m(\u001b[0m\u001b[0mpath\u001b[0m\u001b[0;34m,\u001b[0m \u001b[0;34m'wb'\u001b[0m\u001b[0;34m)\u001b[0m \u001b[0;32mas\u001b[0m \u001b[0mf\u001b[0m\u001b[0;34m:\u001b[0m\u001b[0;34m\u001b[0m\u001b[0;34m\u001b[0m\u001b[0m\n\u001b[0;32m---> 82\u001b[0;31m         \u001b[0mf\u001b[0m\u001b[0;34m.\u001b[0m\u001b[0mwrite\u001b[0m\u001b[0;34m(\u001b[0m\u001b[0mserializeProject\u001b[0m\u001b[0;34m(\u001b[0m\u001b[0mproject\u001b[0m\u001b[0;34m)\u001b[0m\u001b[0;34m)\u001b[0m\u001b[0;34m\u001b[0m\u001b[0;34m\u001b[0m\u001b[0m\n\u001b[0m\u001b[1;32m     83\u001b[0m \u001b[0;34m\u001b[0m\u001b[0m\n\u001b[1;32m     84\u001b[0m \u001b[0;31m################################## Data ########################################\u001b[0m\u001b[0;34m\u001b[0m\u001b[0;34m\u001b[0m\u001b[0;34m\u001b[0m\u001b[0m\n",
      "\u001b[0;32m~/repos/p1on/p1on/serialize.py\u001b[0m in \u001b[0;36mserializeProject\u001b[0;34m(project)\u001b[0m\n\u001b[1;32m     33\u001b[0m     \u001b[0;32melse\u001b[0m\u001b[0;34m:\u001b[0m\u001b[0;34m\u001b[0m\u001b[0;34m\u001b[0m\u001b[0m\n\u001b[1;32m     34\u001b[0m         \u001b[0mout\u001b[0m\u001b[0;34m.\u001b[0m\u001b[0mclearColor\u001b[0m\u001b[0;34m.\u001b[0m\u001b[0mCopyFrom\u001b[0m\u001b[0;34m(\u001b[0m\u001b[0m_serializeColor\u001b[0m\u001b[0;34m(\u001b[0m\u001b[0mproject\u001b[0m\u001b[0;34m.\u001b[0m\u001b[0mclearColor\u001b[0m\u001b[0;34m)\u001b[0m\u001b[0;34m)\u001b[0m\u001b[0;34m\u001b[0m\u001b[0;34m\u001b[0m\u001b[0m\n\u001b[0;32m---> 35\u001b[0;31m     \u001b[0mout\u001b[0m\u001b[0;34m.\u001b[0m\u001b[0manimationSpeed\u001b[0m \u001b[0;34m=\u001b[0m \u001b[0mproject\u001b[0m\u001b[0;34m.\u001b[0m\u001b[0manimationSpeed\u001b[0m\u001b[0;34m\u001b[0m\u001b[0;34m\u001b[0m\u001b[0m\n\u001b[0m\u001b[1;32m     36\u001b[0m     \u001b[0;32mif\u001b[0m \u001b[0mproject\u001b[0m\u001b[0;34m.\u001b[0m\u001b[0mcamera\u001b[0m \u001b[0;32mis\u001b[0m \u001b[0;32mnot\u001b[0m \u001b[0;32mNone\u001b[0m\u001b[0;34m:\u001b[0m\u001b[0;34m\u001b[0m\u001b[0;34m\u001b[0m\u001b[0m\n\u001b[1;32m     37\u001b[0m         \u001b[0mout\u001b[0m\u001b[0;34m.\u001b[0m\u001b[0mcamera\u001b[0m\u001b[0;34m.\u001b[0m\u001b[0mCopyFrom\u001b[0m\u001b[0;34m(\u001b[0m\u001b[0m_serializeCamera\u001b[0m\u001b[0;34m(\u001b[0m\u001b[0mproject\u001b[0m\u001b[0;34m.\u001b[0m\u001b[0mcamera\u001b[0m\u001b[0;34m,\u001b[0m \u001b[0mproject\u001b[0m\u001b[0;34m)\u001b[0m\u001b[0;34m)\u001b[0m\u001b[0;34m\u001b[0m\u001b[0;34m\u001b[0m\u001b[0m\n",
      "\u001b[0;31mAttributeError\u001b[0m: 'Project' object has no attribute 'animationSpeed'"
     ]
    }
   ],
   "source": [
    "p1on.saveProject(project, '../examples/earth_moon.p1on')"
   ]
  }
 ],
 "metadata": {
  "interpreter": {
   "hash": "916dbcbb3f70747c44a77c7bcd40155683ae19c65e1c03b4aa3499c5328201f1"
  },
  "kernelspec": {
   "display_name": "Python 3.8.10 64-bit",
   "language": "python",
   "name": "python3"
  },
  "language_info": {
   "codemirror_mode": {
    "name": "ipython",
    "version": 3
   },
   "file_extension": ".py",
   "mimetype": "text/x-python",
   "name": "python",
   "nbconvert_exporter": "python",
   "pygments_lexer": "ipython3",
   "version": "3.8.10"
  },
  "orig_nbformat": 4
 },
 "nbformat": 4,
 "nbformat_minor": 2
}
