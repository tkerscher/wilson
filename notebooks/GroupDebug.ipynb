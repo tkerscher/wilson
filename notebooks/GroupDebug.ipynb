{
 "cells": [
  {
   "cell_type": "code",
   "execution_count": 1,
   "metadata": {},
   "outputs": [],
   "source": [
    "import p1on\n",
    "\n",
    "project = p1on.Project(\"Group Debug\",\n",
    "    author=\"p1on\",\n",
    "    description=\"Group Debug\")\n",
    "\n",
    "project.addAnimatables([\n",
    "    p1on.Sphere(\"Red1\", group=\"Red\", position=(1,0,1), color=\"red\"),\n",
    "    p1on.Sphere(\"Red2\", group=\"Red\", position=(0,1,1), color=\"red\"),\n",
    "    p1on.Sphere(\"Red3\", group=\"Red\", position=(1,1,2), color=\"red\"),\n",
    "    p1on.Sphere(\"Green1\", group=\"Green\", position=(0,0,1), color=\"green\"),\n",
    "    p1on.Sphere(\"Green2\", group=\"Green\", position=(0,1,0), color=\"green\"),\n",
    "    p1on.Sphere(\"Green3\", group=\"Green\", position=(1,1,0), color=\"green\"),\n",
    "    p1on.Sphere(\"Blue1\", group=\"Blue\", position=(1,1,1), color=\"blue\"),\n",
    "    p1on.Sphere(\"Blue2\", group=\"Blue\", position=(0,0,0), color=\"blue\"),\n",
    "    p1on.Sphere(\"Blue3\", group=\"Blue\", position=(1,2,1), color=\"blue\"),\n",
    "    p1on.Sphere(\"Other\", position=(2,1,2), color=\"black\"),\n",
    "    p1on.Sphere(\"Other2\", position=(1,2,2), color=\"black\")\n",
    "])\n",
    "\n",
    "p1on.saveProject(project, \"../examples/GroupDebug.p1on\")"
   ]
  }
 ],
 "metadata": {
  "kernelspec": {
   "display_name": "Python 3.8.10 64-bit",
   "language": "python",
   "name": "python3"
  },
  "language_info": {
   "codemirror_mode": {
    "name": "ipython",
    "version": 3
   },
   "file_extension": ".py",
   "mimetype": "text/x-python",
   "name": "python",
   "nbconvert_exporter": "python",
   "pygments_lexer": "ipython3",
   "version": "3.8.10"
  },
  "orig_nbformat": 4,
  "vscode": {
   "interpreter": {
    "hash": "916dbcbb3f70747c44a77c7bcd40155683ae19c65e1c03b4aa3499c5328201f1"
   }
  }
 },
 "nbformat": 4,
 "nbformat_minor": 2
}
