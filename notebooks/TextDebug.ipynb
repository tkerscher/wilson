{
 "cells": [
  {
   "cell_type": "code",
   "execution_count": 2,
   "metadata": {},
   "outputs": [],
   "source": [
    "import numpy as np\n",
    "import p1on\n",
    "\n",
    "project = p1on.Project(\"Text Debug\", author=\"p1on\")\n",
    "\n",
    "r = 5.0\n",
    "t = np.linspace(0, 2*np.pi)\n",
    "x = r * np.cos(t)\n",
    "y = r * np.sin(t)\n",
    "z = np.sin(t)\n",
    "\n",
    "v = 180 * t / np.pi\n",
    "\n",
    "s = np.sin(t) * 2.0 + 16\n",
    "\n",
    "path = p1on.Path(np.column_stack((t, x, y, z)), \"orbit\")\n",
    "graph = p1on.Graph(np.column_stack((t, v)), \"phi\")\n",
    "\n",
    "sphere = p1on.Sphere(\"satellite\", radius=1.0, position=path, color=\"blue\")\n",
    "center = p1on.Sphere(\"center\", radius=1.5, color=\"red\")\n",
    "\n",
    "text1 = p1on.Text(\"Position:\\nx: %(orbit.x).2f\\ny: %(orbit.y).2f\\nz: %(orbit.z).2f\",\n",
    "    \"text1\", group=\"ll\", paths=[path], position=\"ll\")\n",
    "text11 = p1on.Text(\"Position:\\nx: %(orbit.x).2f\\ny: %(orbit.y).2f\\nz: %(orbit.z).2f\",\n",
    "    \"text1\", group=\"l\", paths=[path], position=\"l\")\n",
    "text2 = p1on.Text(\"Phi: %(phi)03d\", \"text2\", group=\"lr\", graphs=[graph], position='lr')\n",
    "text22 = p1on.Text(\"Two Text in the same corner\", \"text22\", group=\"lr\", position=\"lr\")\n",
    "text3 = p1on.Text(\"Static Debug Text\", \"text3\", group=\"bottom\",\n",
    "    position=\"bottom\", bold=True, italic=True,\n",
    "    fontSize=np.column_stack((t, s)))\n",
    "\n",
    "project.addAnimatables([sphere, center, text1, text11, text2, text22, text3])\n",
    "project.hiddenGroups = ['lr']\n",
    "\n",
    "p1on.saveProject(project, '../examples/TextDebug.p1on')"
   ]
  }
 ],
 "metadata": {
  "kernelspec": {
   "display_name": "Python 3.9.10 64-bit",
   "language": "python",
   "name": "python3"
  },
  "language_info": {
   "codemirror_mode": {
    "name": "ipython",
    "version": 3
   },
   "file_extension": ".py",
   "mimetype": "text/x-python",
   "name": "python",
   "nbconvert_exporter": "python",
   "pygments_lexer": "ipython3",
   "version": "3.9.10"
  },
  "orig_nbformat": 4,
  "vscode": {
   "interpreter": {
    "hash": "403965be6ce1e5383a76cafb5044fe0511df8b33b09659455411b88cd6913886"
   }
  }
 },
 "nbformat": 4,
 "nbformat_minor": 2
}
