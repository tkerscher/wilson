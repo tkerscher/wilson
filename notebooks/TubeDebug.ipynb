{
 "cells": [
  {
   "cell_type": "code",
   "execution_count": 1,
   "metadata": {},
   "outputs": [],
   "source": [
    "import numpy as np\n",
    "import p1on\n",
    "\n",
    "t = np.linspace(0, 10)\n",
    "r = np.sin(2*t)**2 + 0.2*t\n",
    "c = r / r.max()\n",
    "\n",
    "tube = p1on.Tube(\n",
    "    np.array([[0.0,0.0,0.0,0.0],[10.0,5.0,0.0,0.0]]),\n",
    "    \"tube\",\n",
    "    isGrowing=True,\n",
    "    radius=np.column_stack((t, r)),\n",
    "    #color='blue'\n",
    "    color=np.column_stack((t, c))\n",
    ")\n",
    "\n",
    "project = p1on.Project(\"Tube Debug\",\n",
    "    author=\"p1on\",\n",
    "    description=\"Tube debug\",\n",
    "    speedRatio=1.0)\n",
    "\n",
    "project.appendAnimatable(tube)\n",
    "\n",
    "p1on.saveProject(project, \"../examples/tube_debug.p1on\")"
   ]
  }
 ],
 "metadata": {
  "kernelspec": {
   "display_name": "Python 3.8.10 64-bit",
   "language": "python",
   "name": "python3"
  },
  "language_info": {
   "codemirror_mode": {
    "name": "ipython",
    "version": 3
   },
   "file_extension": ".py",
   "mimetype": "text/x-python",
   "name": "python",
   "nbconvert_exporter": "python",
   "pygments_lexer": "ipython3",
   "version": "3.8.10"
  },
  "orig_nbformat": 4,
  "vscode": {
   "interpreter": {
    "hash": "916dbcbb3f70747c44a77c7bcd40155683ae19c65e1c03b4aa3499c5328201f1"
   }
  }
 },
 "nbformat": 4,
 "nbformat_minor": 2
}
